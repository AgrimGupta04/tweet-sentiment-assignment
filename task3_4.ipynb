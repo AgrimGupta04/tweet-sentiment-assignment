{
 "cells": [
  {
   "cell_type": "markdown",
   "id": "660f782f",
   "metadata": {},
   "source": [
    "### Task 3 & 4 – Evaluation + Troubleshooting"
   ]
  },
  {
   "cell_type": "code",
   "execution_count": null,
   "id": "70fc2776",
   "metadata": {},
   "outputs": [
    {
     "name": "stderr",
     "output_type": "stream",
     "text": [
      "c:\\Users\\Agrim Gupta\\Desktop\\Fallon Studio\\sudio_fallon_venv\\lib\\site-packages\\tqdm\\auto.py:21: TqdmWarning: IProgress not found. Please update jupyter and ipywidgets. See https://ipywidgets.readthedocs.io/en/stable/user_install.html\n",
      "  from .autonotebook import tqdm as notebook_tqdm\n"
     ]
    }
   ],
   "source": [
    "## 1.Imports & Setup\n",
    "\n",
    "from datasets import load_dataset\n",
    "from transformers import pipeline, AutoTokenizer, AutoModelForSeq2SeqLM\n",
    "import numpy as np"
   ]
  },
  {
   "cell_type": "code",
   "execution_count": null,
   "id": "683ecf75",
   "metadata": {},
   "outputs": [],
   "source": [
    "## 2.Loading dataset\n",
    "\n",
    "dataset = load_dataset(\"tweet_eval\", \"sentiment\")\n",
    "test_data = dataset[\"test\"].shuffle(seed=42).select(range(200))\n",
    "\n",
    "label_names = dataset[\"train\"].features[\"label\"].names"
   ]
  },
  {
   "cell_type": "code",
   "execution_count": null,
   "id": "e6c46c3e",
   "metadata": {},
   "outputs": [
    {
     "name": "stderr",
     "output_type": "stream",
     "text": [
      "Device set to use cpu\n"
     ]
    }
   ],
   "source": [
    "## 3.Load Pretrained Model\n",
    "\n",
    "classifier = pipeline(\"sentiment-analysis\", model=\"distilbert-base-uncased-finetuned-sst-2-english\")\n",
    "\n",
    "y_true = []\n",
    "y_pred = []\n",
    "\n",
    "for row in test_data:\n",
    "    pred = classifier(row[\"text\"])[0][\"label\"].upper()\n",
    "    y_pred.append(pred)\n",
    "    y_true.append(label_names[row[\"label\"]].upper())\n",
    "\n",
    "mapped_true = [\"POSITIVE\" if t == \"POSITIVE\" else \"NEGATIVE\" for t in y_true]\n",
    "mapped_pred = [\"POSITIVE\" if \"POS\" in p else \"NEGATIVE\" for p in y_pred]"
   ]
  },
  {
   "cell_type": "code",
   "execution_count": null,
   "id": "0956395d",
   "metadata": {},
   "outputs": [
    {
     "name": "stdout",
     "output_type": "stream",
     "text": [
      "=== DistilBERT Evaluation (scikit-learn) ===\n",
      "Accuracy: 0.75\n",
      "Precision: 0.6879595588235294\n",
      "Recall: 0.7125779625779626\n",
      "F1: 0.6964545896066052\n"
     ]
    }
   ],
   "source": [
    "## 4.Evaluate with Prompts\n",
    "\n",
    "from sklearn.metrics import accuracy_score, precision_recall_fscore_support\n",
    "\n",
    "print(\"=== DistilBERT Evaluation (scikit-learn) ===\")\n",
    "print(\"Accuracy:\", accuracy_score(mapped_true, mapped_pred))\n",
    "\n",
    "precision, recall, f1, _ = precision_recall_fscore_support(mapped_true, mapped_pred, average=\"macro\")\n",
    "print(\"Precision:\", precision)\n",
    "print(\"Recall:\", recall)\n",
    "print(\"F1:\", f1)"
   ]
  },
  {
   "cell_type": "code",
   "execution_count": null,
   "id": "40233197",
   "metadata": {},
   "outputs": [
    {
     "name": "stderr",
     "output_type": "stream",
     "text": [
      "c:\\Users\\Agrim Gupta\\Desktop\\Fallon Studio\\sudio_fallon_venv\\lib\\site-packages\\huggingface_hub\\file_download.py:143: UserWarning: `huggingface_hub` cache-system uses symlinks by default to efficiently store duplicated files but your machine does not support them in C:\\Users\\Agrim Gupta\\.cache\\huggingface\\hub\\models--google--flan-t5-small. Caching files will still work but in a degraded version that might require more space on your disk. This warning can be disabled by setting the `HF_HUB_DISABLE_SYMLINKS_WARNING` environment variable. For more details, see https://huggingface.co/docs/huggingface_hub/how-to-cache#limitations.\n",
      "To support symlinks on Windows, you either need to activate Developer Mode or to run Python as an administrator. In order to activate developer mode, see this article: https://docs.microsoft.com/en-us/windows/apps/get-started/enable-your-device-for-development\n",
      "  warnings.warn(message)\n",
      "Xet Storage is enabled for this repo, but the 'hf_xet' package is not installed. Falling back to regular HTTP download. For better performance, install the package with: `pip install huggingface_hub[hf_xet]` or `pip install hf_xet`\n",
      "Xet Storage is enabled for this repo, but the 'hf_xet' package is not installed. Falling back to regular HTTP download. For better performance, install the package with: `pip install huggingface_hub[hf_xet]` or `pip install hf_xet`\n"
     ]
    },
    {
     "name": "stdout",
     "output_type": "stream",
     "text": [
      "\n",
      "=== FLAN-T5 Prompt Interaction ===\n",
      "\n",
      "TWEET: I love the crew, they were very friendly!\n",
      "\n",
      "Direct Prompt:\n",
      "Classify the sentiment of this tweet as Positive, Neutral, or Negative:\n",
      "\n",
      "Tweet: I love the crew, they were very friendly!\n",
      "Model Response: Positive\n",
      "\n",
      "Few-Shot Prompt:\n",
      "\n",
      "Tweet: \"I love flying with Delta, great service!\" → Positive\n",
      "Tweet: \"The flight was delayed and staff were rude.\" → Negative\n",
      "Tweet: \"The plane was okay, nothing special.\" → Neutral\n",
      "\n",
      "Classify the following tweet:\n",
      "Tweet: I love the crew, they were very friendly!\n",
      "Model Response: Positive\n",
      "\n",
      "Chain-of-Thought Prompt:\n",
      "Analyze the tweet step by step. First decide if the tone is favorable, unfavorable, or neutral. Then provide the final label.\n",
      "\n",
      "Tweet: I love the crew, they were very friendly!\n",
      "Model Response: Positive\n",
      "\n",
      "TWEET: The flight was delayed by 3 hours.\n",
      "\n",
      "Direct Prompt:\n",
      "Classify the sentiment of this tweet as Positive, Neutral, or Negative:\n",
      "\n",
      "Tweet: The flight was delayed by 3 hours.\n",
      "Model Response: Negative\n",
      "\n",
      "Few-Shot Prompt:\n",
      "\n",
      "Tweet: \"I love flying with Delta, great service!\" → Positive\n",
      "Tweet: \"The flight was delayed and staff were rude.\" → Negative\n",
      "Tweet: \"The plane was okay, nothing special.\" → Neutral\n",
      "\n",
      "Classify the following tweet:\n",
      "Tweet: The flight was delayed by 3 hours.\n",
      "Model Response: Negative\n",
      "\n",
      "Chain-of-Thought Prompt:\n",
      "Analyze the tweet step by step. First decide if the tone is favorable, unfavorable, or neutral. Then provide the final label.\n",
      "\n",
      "Tweet: The flight was delayed by 3 hours.\n",
      "Model Response: Neutral is the most favorable tone.\n",
      "\n",
      "TWEET: It was just okay, nothing special.\n",
      "\n",
      "Direct Prompt:\n",
      "Classify the sentiment of this tweet as Positive, Neutral, or Negative:\n",
      "\n",
      "Tweet: It was just okay, nothing special.\n",
      "Model Response: Negative\n",
      "\n",
      "Few-Shot Prompt:\n",
      "\n",
      "Tweet: \"I love flying with Delta, great service!\" → Positive\n",
      "Tweet: \"The flight was delayed and staff were rude.\" → Negative\n",
      "Tweet: \"The plane was okay, nothing special.\" → Neutral\n",
      "\n",
      "Classify the following tweet:\n",
      "Tweet: It was just okay, nothing special.\n",
      "Model Response: Negative\n",
      "\n",
      "Chain-of-Thought Prompt:\n",
      "Analyze the tweet step by step. First decide if the tone is favorable, unfavorable, or neutral. Then provide the final label.\n",
      "\n",
      "Tweet: It was just okay, nothing special.\n",
      "Model Response: neutral\n"
     ]
    }
   ],
   "source": [
    "## 5.Save Results\n",
    "\n",
    "from transformers import AutoTokenizer, AutoModelForSeq2SeqLM\n",
    "\n",
    "t5_name = \"google/flan-t5-small\"\n",
    "t5_tokenizer = AutoTokenizer.from_pretrained(t5_name)\n",
    "t5_model = AutoModelForSeq2SeqLM.from_pretrained(t5_name)\n",
    "\n",
    "def flan_generate(prompt, max_new_tokens=50):\n",
    "    inputs = t5_tokenizer(prompt, return_tensors=\"pt\")\n",
    "    outputs = t5_model.generate(**inputs, max_new_tokens=max_new_tokens)\n",
    "    return t5_tokenizer.decode(outputs[0], skip_special_tokens=True)\n",
    "\n",
    "\n",
    "def prompt_direct(tweet):\n",
    "    return f\"Classify the sentiment of this tweet as Positive, Neutral, or Negative:\\n\\nTweet: {tweet}\"\n",
    "\n",
    "def prompt_fewshot(tweet):\n",
    "    examples = \"\"\"\n",
    "Tweet: \"I love flying with Delta, great service!\" → Positive\n",
    "Tweet: \"The flight was delayed and staff were rude.\" → Negative\n",
    "Tweet: \"The plane was okay, nothing special.\" → Neutral\n",
    "\"\"\"\n",
    "    return f\"{examples}\\nClassify the following tweet:\\nTweet: {tweet}\"\n",
    "\n",
    "def prompt_chain_of_thought(tweet):\n",
    "    return f\"Analyze the tweet step by step. First decide if the tone is favorable, unfavorable, or neutral. Then provide the final label.\\n\\nTweet: {tweet}\"\n",
    "\n",
    "## Testing prompts on a few tweets\n",
    "sample_tweets = [\n",
    "    \"I loved the crew, they were very friendly!\",\n",
    "    \"The flight was delayed by 3 hours.\",\n",
    "    \"It was just okay, nothing special.\"\n",
    "]\n",
    "\n",
    "print(\"\\n=== FLAN-T5 Prompt Interaction ===\")\n",
    "for tweet in sample_tweets:\n",
    "    print(\"\\nTWEET:\", tweet)\n",
    "    for style, func in [(\"Direct\", prompt_direct), (\"Few-Shot\", prompt_fewshot), (\"Chain-of-Thought\", prompt_chain_of_thought)]:\n",
    "        prompt = func(tweet)\n",
    "        response = flan_generate(prompt)\n",
    "        print(f\"\\n{style} Prompt:\\n{prompt}\")\n",
    "        print(\"Model Response:\", response)"
   ]
  },
  {
   "cell_type": "markdown",
   "id": "5a5cf8fd",
   "metadata": {},
   "source": [
    "#### 6.Troubleshooting\n",
    "\n",
    "\n",
    "Likely Issue:\n",
    "- DistilBERT ignores custom prompts (since it's fine-tuned classifier). leads to poor performance on 'Neutral' tweets.\n",
    "\n",
    "Proposed Solutions:\n",
    "- Use generative LLMs (e.g., FLAN-T5, GPT) to respect prompt variations, or fine-tune DistilBERT on custom prompts if compute allows.\n"
   ]
  }
 ],
 "metadata": {
  "kernelspec": {
   "display_name": "Python 3",
   "language": "python",
   "name": "python3"
  },
  "language_info": {
   "codemirror_mode": {
    "name": "ipython",
    "version": 3
   },
   "file_extension": ".py",
   "mimetype": "text/x-python",
   "name": "python",
   "nbconvert_exporter": "python",
   "pygments_lexer": "ipython3",
   "version": "3.10.18"
  }
 },
 "nbformat": 4,
 "nbformat_minor": 5
}
