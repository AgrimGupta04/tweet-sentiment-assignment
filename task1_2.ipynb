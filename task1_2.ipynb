{
 "cells": [
  {
   "cell_type": "markdown",
   "id": "0ce8946e",
   "metadata": {},
   "source": [
    "### Task 1 & 2 – Dataset Prep + Prompt Engineering"
   ]
  },
  {
   "cell_type": "code",
   "execution_count": null,
   "id": "449f2078",
   "metadata": {},
   "outputs": [
    {
     "name": "stderr",
     "output_type": "stream",
     "text": [
      "c:\\Users\\Agrim Gupta\\Desktop\\Fallon Studio\\sudio_fallon_venv\\lib\\site-packages\\tqdm\\auto.py:21: TqdmWarning: IProgress not found. Please update jupyter and ipywidgets. See https://ipywidgets.readthedocs.io/en/stable/user_install.html\n",
      "  from .autonotebook import tqdm as notebook_tqdm\n"
     ]
    }
   ],
   "source": [
    "## 1.Imports & Dataset Loading\n",
    "\n",
    "from datasets import load_dataset\n",
    "import re\n",
    "import pandas as pd\n",
    "import matplotlib.pyplot as plt\n",
    "from transformers import pipeline"
   ]
  },
  {
   "cell_type": "code",
   "execution_count": 3,
   "id": "40832cf7",
   "metadata": {},
   "outputs": [
    {
     "name": "stderr",
     "output_type": "stream",
     "text": [
      "c:\\Users\\Agrim Gupta\\Desktop\\Fallon Studio\\sudio_fallon_venv\\lib\\site-packages\\huggingface_hub\\file_download.py:143: UserWarning: `huggingface_hub` cache-system uses symlinks by default to efficiently store duplicated files but your machine does not support them in C:\\Users\\Agrim Gupta\\.cache\\huggingface\\hub\\datasets--tweet_eval. Caching files will still work but in a degraded version that might require more space on your disk. This warning can be disabled by setting the `HF_HUB_DISABLE_SYMLINKS_WARNING` environment variable. For more details, see https://huggingface.co/docs/huggingface_hub/how-to-cache#limitations.\n",
      "To support symlinks on Windows, you either need to activate Developer Mode or to run Python as an administrator. In order to activate developer mode, see this article: https://docs.microsoft.com/en-us/windows/apps/get-started/enable-your-device-for-development\n",
      "  warnings.warn(message)\n",
      "Generating train split: 100%|██████████| 45615/45615 [00:00<00:00, 286511.45 examples/s]\n",
      "Generating test split: 100%|██████████| 12284/12284 [00:00<00:00, 754570.53 examples/s]\n",
      "Generating validation split: 100%|██████████| 2000/2000 [00:00<00:00, 144454.34 examples/s]\n"
     ]
    }
   ],
   "source": [
    "## Load US Airline Sentiment dataset from Hugging Face\n",
    "\n",
    "dataset = load_dataset(\"tweet_eval\", \"sentiment\")"
   ]
  },
  {
   "cell_type": "code",
   "execution_count": null,
   "id": "feb3f8c8",
   "metadata": {},
   "outputs": [],
   "source": [
    "## 2.Preprocessing\n",
    "\n",
    "def clean_tweet(text):\n",
    "    text = text.lower()\n",
    "    text = re.sub(r\"http\\S+|www\\S+\", \"\", text)   \n",
    "    text = re.sub(r\"@\\w+\", \"\", text)             \n",
    "    text = re.sub(r\"#\\w+\", \"\", text)            \n",
    "    text = re.sub(r\"[^a-z0-9\\s]\", \"\", text)    \n",
    "    return text.strip()"
   ]
  },
  {
   "cell_type": "code",
   "execution_count": 5,
   "id": "21cabf0f",
   "metadata": {},
   "outputs": [
    {
     "name": "stderr",
     "output_type": "stream",
     "text": [
      "Map: 100%|██████████| 45615/45615 [00:03<00:00, 13039.77 examples/s]\n",
      "Map: 100%|██████████| 12284/12284 [00:00<00:00, 12630.25 examples/s]\n",
      "Map: 100%|██████████| 2000/2000 [00:00<00:00, 10849.70 examples/s]\n"
     ]
    }
   ],
   "source": [
    "## Apply cleaning:\n",
    "\n",
    "dataset = dataset.map(lambda x: {\"text\": clean_tweet(x[\"text\"])})"
   ]
  },
  {
   "cell_type": "code",
   "execution_count": null,
   "id": "141daf6c",
   "metadata": {},
   "outputs": [
    {
     "data": {
      "image/png": "[encoded data removed]",
      "text/plain": [
       "<Figure size 640x480 with 1 Axes>"
      ]
     },
     "metadata": {},
     "output_type": "display_data"
    }
   ],
   "source": [
    "## 3.Label Distribution\n",
    "\n",
    "labels = dataset[\"train\"][\"label\"]\n",
    "label_names = dataset[\"train\"].features[\"label\"].names\n",
    "counts = pd.Series(labels).value_counts().sort_index()\n",
    "\n",
    "plt.bar(label_names, counts)\n",
    "plt.title(\"Label Distribution (Train Set)\")\n",
    "plt.show()"
   ]
  },
  {
   "cell_type": "code",
   "execution_count": null,
   "id": "9babc114",
   "metadata": {},
   "outputs": [],
   "source": [
    "## 4.Prompt Engineering:\n",
    "\n",
    "def prompt_direct(tweet):\n",
    "    return f\"Classify the sentiment of this tweet as Positive, Neutral, or Negative:\\n\\nTweet: {tweet}\"\n",
    "\n",
    "def prompt_fewshot(tweet):\n",
    "    examples = \"\"\"\n",
    "Tweet: \"I love flying with Delta, they provide great service !\" -> Positive\n",
    "Tweet: \"The flight was delayed and crew was very rude.\" -> Negative\n",
    "Tweet: \"The plane was okay, nothing special.\" -> Neutral\n",
    "\"\"\"\n",
    "    return f\"{examples}\\nClassify the following tweet:\\nTweet: {tweet}\"\n",
    "\n",
    "def prompt_chain_of_thought(tweet):\n",
    "    return f\"Analyze the tweet step by step. First decide if the tone is favorable, unfavorable, or neutral. Then provide the final label.\\n\\nTweet: {tweet}\""
   ]
  },
  {
   "cell_type": "code",
   "execution_count": null,
   "id": "37309c4a",
   "metadata": {},
   "outputs": [
    {
     "name": "stdout",
     "output_type": "stream",
     "text": [
      "\n",
      " Prompt Examples\n",
      "\n",
      "TWEET: I love the crew, they were very friendly!\n",
      "Direct Prompt:\n",
      " Classify the sentiment of this tweet as Positive, Neutral, or Negative:\n",
      "\n",
      "Tweet: I love the crew, they were very friendly!\n",
      "Few-Shot Prompt:\n",
      " \n",
      "Tweet: \"I love flying with Delta, they provide great service !\" → Positive\n",
      "Tweet: \"The flight was delayed and crew was very rude.\" → Negative\n",
      "Tweet: \"The plane was okay, nothing special.\" → Neutral\n",
      "\n",
      "Classify the following tweet:\n",
      "Tweet: I love the crew, they were very friendly!\n",
      "Chain-of-Thought Prompt:\n",
      " Analyze the tweet step by step. First decide if the tone is favorable, unfavorable, or neutral. Then provide the final label.\n",
      "\n",
      "Tweet: I love the crew, they were very friendly!\n",
      "\n",
      "TWEET: The flight was delayed by 3 hours.\n",
      "Direct Prompt:\n",
      " Classify the sentiment of this tweet as Positive, Neutral, or Negative:\n",
      "\n",
      "Tweet: The flight was delayed by 3 hours.\n",
      "Few-Shot Prompt:\n",
      " \n",
      "Tweet: \"I love flying with Delta, they provide great service !\" → Positive\n",
      "Tweet: \"The flight was delayed and crew was very rude.\" → Negative\n",
      "Tweet: \"The plane was okay, nothing special.\" → Neutral\n",
      "\n",
      "Classify the following tweet:\n",
      "Tweet: The flight was delayed by 3 hours.\n",
      "Chain-of-Thought Prompt:\n",
      " Analyze the tweet step by step. First decide if the tone is favorable, unfavorable, or neutral. Then provide the final label.\n",
      "\n",
      "Tweet: The flight was delayed by 3 hours.\n",
      "\n",
      "TWEET: It was just okay, nothing special.\n",
      "Direct Prompt:\n",
      " Classify the sentiment of this tweet as Positive, Neutral, or Negative:\n",
      "\n",
      "Tweet: It was just okay, nothing special.\n",
      "Few-Shot Prompt:\n",
      " \n",
      "Tweet: \"I love flying with Delta, they provide great service !\" → Positive\n",
      "Tweet: \"The flight was delayed and crew was very rude.\" → Negative\n",
      "Tweet: \"The plane was okay, nothing special.\" → Neutral\n",
      "\n",
      "Classify the following tweet:\n",
      "Tweet: It was just okay, nothing special.\n",
      "Chain-of-Thought Prompt:\n",
      " Analyze the tweet step by step. First decide if the tone is favorable, unfavorable, or neutral. Then provide the final label.\n",
      "\n",
      "Tweet: It was just okay, nothing special.\n"
     ]
    }
   ],
   "source": [
    "sample_tweets = [\n",
    "    \"I loved the crew, they were very friendly!\",\n",
    "    \"The flight was delayed by 3 hours.\",\n",
    "    \"It was just okay, nothing special.\"\n",
    "]\n",
    "\n",
    "print(\"\\n Prompt Examples\")\n",
    "for tweet in sample_tweets:\n",
    "    print(\"\\nTWEET:\", tweet)\n",
    "    print(\"Direct Prompt:\\n\", prompt_direct(tweet))\n",
    "    print(\"Few-Shot Prompt:\\n\", prompt_fewshot(tweet))\n",
    "    print(\"Chain-of-Thought Prompt:\\n\", prompt_chain_of_thought(tweet))"
   ]
  },
  {
   "cell_type": "code",
   "execution_count": null,
   "id": "2bd19f3e",
   "metadata": {},
   "outputs": [],
   "source": []
  }
 ],
 "metadata": {
  "kernelspec": {
   "display_name": "Python 3",
   "language": "python",
   "name": "python3"
  },
  "language_info": {
   "codemirror_mode": {
    "name": "ipython",
    "version": 3
   },
   "file_extension": ".py",
   "mimetype": "text/x-python",
   "name": "python",
   "nbconvert_exporter": "python",
   "pygments_lexer": "ipython3",
   "version": "3.10.18"
  }
 },
 "nbformat": 4,
 "nbformat_minor": 5
}
